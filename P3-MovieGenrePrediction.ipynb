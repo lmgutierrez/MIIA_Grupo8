{
 "cells": [
  {
   "cell_type": "markdown",
   "metadata": {},
   "source": [
    "# Project 3\n",
    "\n",
    "\n",
    "# Movie Genre Classification"
   ]
  },
  {
   "cell_type": "markdown",
   "metadata": {},
   "source": [
    "## Integrantes"
   ]
  },
  {
   "cell_type": "markdown",
   "metadata": {},
   "source": [
    "Laura Gutierrez Código 201015209\n",
    "\n",
    "Fernando Bautista Código 202027865\n",
    "\n",
    "Fredi Baron Código 202027522\n",
    "\n",
    "Ingrid Hernández Código 202028041"
   ]
  },
  {
   "cell_type": "markdown",
   "metadata": {},
   "source": [
    "## Sample Submission"
   ]
  },
  {
   "cell_type": "code",
   "execution_count": 2,
   "metadata": {},
   "outputs": [],
   "source": [
    "import pandas as pd\n",
    "import os\n",
    "import numpy as np\n",
    "import nltk\n",
    "import re\n",
    "import seaborn as sns\n",
    "import matplotlib.pyplot as plt\n",
    "#from skmultilearn.problem_transform import ClassifierChain\n",
    "#from skmultilearn.problem_transform import LabelPowerset\n",
    "\n",
    "\n",
    "from sklearn.feature_extraction.text import CountVectorizer\n",
    "from sklearn.preprocessing import MultiLabelBinarizer\n",
    "from sklearn.multiclass import OneVsRestClassifier\n",
    "from sklearn.ensemble import RandomForestRegressor, RandomForestClassifier\n",
    "from sklearn.metrics import r2_score, roc_auc_score\n",
    "from sklearn.model_selection import train_test_split\n",
    "\n",
    "\n",
    "from sklearn.pipeline import Pipeline\n",
    "from sklearn.multiclass import OneVsRestClassifier\n",
    "from sklearn.svm import LinearSVC\n",
    "from sklearn.feature_extraction.text import TfidfVectorizer\n",
    "import warnings\n",
    "warnings.filterwarnings(\"ignore\")"
   ]
  },
  {
   "cell_type": "code",
   "execution_count": 3,
   "metadata": {},
   "outputs": [],
   "source": [
    "dataTraining = pd.read_csv('C:/Users/ihernandez/Desktop/Guardar en Disco Duro/Modelos Avanzados 1/Proyecto 3/dataTraining.csv', parse_dates=True)\n",
    "dataTesting = pd.read_csv('C:/Users/ihernandez/Desktop/Guardar en Disco Duro/Modelos Avanzados 1/Proyecto 3/dataTesting.csv', parse_dates=True)"
   ]
  },
  {
   "cell_type": "code",
   "execution_count": 4,
   "metadata": {},
   "outputs": [
    {
     "data": {
      "text/html": [
       "<div>\n",
       "<style scoped>\n",
       "    .dataframe tbody tr th:only-of-type {\n",
       "        vertical-align: middle;\n",
       "    }\n",
       "\n",
       "    .dataframe tbody tr th {\n",
       "        vertical-align: top;\n",
       "    }\n",
       "\n",
       "    .dataframe thead th {\n",
       "        text-align: right;\n",
       "    }\n",
       "</style>\n",
       "<table border=\"1\" class=\"dataframe\">\n",
       "  <thead>\n",
       "    <tr style=\"text-align: right;\">\n",
       "      <th></th>\n",
       "      <th>Unnamed: 0</th>\n",
       "      <th>year</th>\n",
       "      <th>title</th>\n",
       "      <th>plot</th>\n",
       "      <th>genres</th>\n",
       "      <th>rating</th>\n",
       "    </tr>\n",
       "  </thead>\n",
       "  <tbody>\n",
       "    <tr>\n",
       "      <th>0</th>\n",
       "      <td>3107</td>\n",
       "      <td>2003</td>\n",
       "      <td>Most</td>\n",
       "      <td>most is the story of a single father who takes...</td>\n",
       "      <td>['Short', 'Drama']</td>\n",
       "      <td>8.0</td>\n",
       "    </tr>\n",
       "    <tr>\n",
       "      <th>1</th>\n",
       "      <td>900</td>\n",
       "      <td>2008</td>\n",
       "      <td>How to Be a Serial Killer</td>\n",
       "      <td>a serial killer decides to teach the secrets o...</td>\n",
       "      <td>['Comedy', 'Crime', 'Horror']</td>\n",
       "      <td>5.6</td>\n",
       "    </tr>\n",
       "    <tr>\n",
       "      <th>2</th>\n",
       "      <td>6724</td>\n",
       "      <td>1941</td>\n",
       "      <td>A Woman's Face</td>\n",
       "      <td>in sweden ,  a female blackmailer with a disfi...</td>\n",
       "      <td>['Drama', 'Film-Noir', 'Thriller']</td>\n",
       "      <td>7.2</td>\n",
       "    </tr>\n",
       "    <tr>\n",
       "      <th>3</th>\n",
       "      <td>4704</td>\n",
       "      <td>1954</td>\n",
       "      <td>Executive Suite</td>\n",
       "      <td>in a friday afternoon in new york ,  the presi...</td>\n",
       "      <td>['Drama']</td>\n",
       "      <td>7.4</td>\n",
       "    </tr>\n",
       "    <tr>\n",
       "      <th>4</th>\n",
       "      <td>2582</td>\n",
       "      <td>1990</td>\n",
       "      <td>Narrow Margin</td>\n",
       "      <td>in los angeles ,  the editor of a publishing h...</td>\n",
       "      <td>['Action', 'Crime', 'Thriller']</td>\n",
       "      <td>6.6</td>\n",
       "    </tr>\n",
       "  </tbody>\n",
       "</table>\n",
       "</div>"
      ],
      "text/plain": [
       "   Unnamed: 0  year                      title  \\\n",
       "0        3107  2003                       Most   \n",
       "1         900  2008  How to Be a Serial Killer   \n",
       "2        6724  1941             A Woman's Face   \n",
       "3        4704  1954            Executive Suite   \n",
       "4        2582  1990              Narrow Margin   \n",
       "\n",
       "                                                plot  \\\n",
       "0  most is the story of a single father who takes...   \n",
       "1  a serial killer decides to teach the secrets o...   \n",
       "2  in sweden ,  a female blackmailer with a disfi...   \n",
       "3  in a friday afternoon in new york ,  the presi...   \n",
       "4  in los angeles ,  the editor of a publishing h...   \n",
       "\n",
       "                               genres  rating  \n",
       "0                  ['Short', 'Drama']     8.0  \n",
       "1       ['Comedy', 'Crime', 'Horror']     5.6  \n",
       "2  ['Drama', 'Film-Noir', 'Thriller']     7.2  \n",
       "3                           ['Drama']     7.4  \n",
       "4     ['Action', 'Crime', 'Thriller']     6.6  "
      ]
     },
     "execution_count": 4,
     "metadata": {},
     "output_type": "execute_result"
    }
   ],
   "source": [
    "dataTraining.head()"
   ]
  },
  {
   "cell_type": "code",
   "execution_count": 5,
   "metadata": {
    "scrolled": true
   },
   "outputs": [
    {
     "data": {
      "text/html": [
       "<div>\n",
       "<style scoped>\n",
       "    .dataframe tbody tr th:only-of-type {\n",
       "        vertical-align: middle;\n",
       "    }\n",
       "\n",
       "    .dataframe tbody tr th {\n",
       "        vertical-align: top;\n",
       "    }\n",
       "\n",
       "    .dataframe thead th {\n",
       "        text-align: right;\n",
       "    }\n",
       "</style>\n",
       "<table border=\"1\" class=\"dataframe\">\n",
       "  <thead>\n",
       "    <tr style=\"text-align: right;\">\n",
       "      <th></th>\n",
       "      <th>Unnamed: 0</th>\n",
       "      <th>year</th>\n",
       "      <th>title</th>\n",
       "      <th>plot</th>\n",
       "    </tr>\n",
       "  </thead>\n",
       "  <tbody>\n",
       "    <tr>\n",
       "      <th>0</th>\n",
       "      <td>1</td>\n",
       "      <td>1999</td>\n",
       "      <td>Message in a Bottle</td>\n",
       "      <td>who meets by fate ,  shall be sealed by fate ....</td>\n",
       "    </tr>\n",
       "    <tr>\n",
       "      <th>1</th>\n",
       "      <td>4</td>\n",
       "      <td>1978</td>\n",
       "      <td>Midnight Express</td>\n",
       "      <td>the true story of billy hayes ,  an american c...</td>\n",
       "    </tr>\n",
       "    <tr>\n",
       "      <th>2</th>\n",
       "      <td>5</td>\n",
       "      <td>1996</td>\n",
       "      <td>Primal Fear</td>\n",
       "      <td>martin vail left the chicago da ' s office to ...</td>\n",
       "    </tr>\n",
       "    <tr>\n",
       "      <th>3</th>\n",
       "      <td>6</td>\n",
       "      <td>1950</td>\n",
       "      <td>Crisis</td>\n",
       "      <td>husband and wife americans dr .  eugene and mr...</td>\n",
       "    </tr>\n",
       "    <tr>\n",
       "      <th>4</th>\n",
       "      <td>7</td>\n",
       "      <td>1959</td>\n",
       "      <td>The Tingler</td>\n",
       "      <td>the coroner and scientist dr .  warren chapin ...</td>\n",
       "    </tr>\n",
       "  </tbody>\n",
       "</table>\n",
       "</div>"
      ],
      "text/plain": [
       "   Unnamed: 0  year                title  \\\n",
       "0           1  1999  Message in a Bottle   \n",
       "1           4  1978     Midnight Express   \n",
       "2           5  1996          Primal Fear   \n",
       "3           6  1950               Crisis   \n",
       "4           7  1959          The Tingler   \n",
       "\n",
       "                                                plot  \n",
       "0  who meets by fate ,  shall be sealed by fate ....  \n",
       "1  the true story of billy hayes ,  an american c...  \n",
       "2  martin vail left the chicago da ' s office to ...  \n",
       "3  husband and wife americans dr .  eugene and mr...  \n",
       "4  the coroner and scientist dr .  warren chapin ...  "
      ]
     },
     "execution_count": 5,
     "metadata": {},
     "output_type": "execute_result"
    }
   ],
   "source": [
    "dataTesting.head()"
   ]
  },
  {
   "cell_type": "markdown",
   "metadata": {},
   "source": [
    "## Exploración de los datos"
   ]
  },
  {
   "cell_type": "code",
   "execution_count": 6,
   "metadata": {},
   "outputs": [],
   "source": [
    "dataTraining['genres'] = dataTraining['genres'].map(lambda x: eval(x))"
   ]
  },
  {
   "cell_type": "code",
   "execution_count": 7,
   "metadata": {},
   "outputs": [
    {
     "data": {
      "text/plain": [
       "24"
      ]
     },
     "execution_count": 7,
     "metadata": {},
     "output_type": "execute_result"
    }
   ],
   "source": [
    "# Total de generos en el data set\n",
    "all_genres = sum(dataTraining['genres'],[])\n",
    "len(set(all_genres))"
   ]
  },
  {
   "cell_type": "code",
   "execution_count": 8,
   "metadata": {},
   "outputs": [],
   "source": [
    "all_genres = nltk.FreqDist(all_genres) \n",
    "all_genres_df = pd.DataFrame({'Genre': list(all_genres.keys()), \n",
    "                              'Count': list(all_genres.values())})"
   ]
  },
  {
   "cell_type": "code",
   "execution_count": 9,
   "metadata": {},
   "outputs": [],
   "source": [
    "g = all_genres_df.nlargest(columns=\"Count\", n = 50) "
   ]
  },
  {
   "cell_type": "code",
   "execution_count": 10,
   "metadata": {},
   "outputs": [
    {
     "data": {
      "image/png": "[encoded data removed]",
      "text/plain": [
       "<Figure size 864x1080 with 1 Axes>"
      ]
     },
     "metadata": {
      "needs_background": "light"
     },
     "output_type": "display_data"
    }
   ],
   "source": [
    "plt.figure(figsize=(12,15)) \n",
    "ax = sns.barplot(data=g, x= \"Count\", y = \"Genre\") \n",
    "ax.set(ylabel = 'Count') \n",
    "plt.show()"
   ]
  },
  {
   "cell_type": "markdown",
   "metadata": {},
   "source": [
    "Teniendo en cuenta lo anterior, en el dataset se encuentran 24 géneros, de los cuales la mayoria de las peliculas están categorizadas como Drama y Comedia, mientras que Film noir y Short tienen la menor frecuencia. "
   ]
  },
  {
   "cell_type": "markdown",
   "metadata": {},
   "source": [
    "## Exploración de texto"
   ]
  },
  {
   "cell_type": "markdown",
   "metadata": {},
   "source": [
    "A continuación se observa el top 20 de las palabras más frecuentes según la trama de cada pelicula:"
   ]
  },
  {
   "cell_type": "code",
   "execution_count": 13,
   "metadata": {
    "scrolled": true
   },
   "outputs": [
    {
     "data": {
      "text/plain": [
       "<Figure size 1440x1440 with 0 Axes>"
      ]
     },
     "metadata": {},
     "output_type": "display_data"
    },
    {
     "data": {
      "image/png": "[encoded data removed]",
      "text/plain": [
       "<Figure size 864x1080 with 1 Axes>"
      ]
     },
     "metadata": {
      "needs_background": "light"
     },
     "output_type": "display_data"
    }
   ],
   "source": [
    "plt.figure(figsize=(20,20)) \n",
    "def freq_words(x, terms = 30): \n",
    "  all_words = ' '.join([text for text in x]) \n",
    "  all_words = all_words.split() \n",
    "  fdist = nltk.FreqDist(all_words) \n",
    "  words_df = pd.DataFrame({'word':list(fdist.keys()), 'count':list(fdist.values())}) \n",
    "  \n",
    "  # selecting top 20 most frequent words \n",
    "  d = words_df.nlargest(columns=\"count\", n = terms) \n",
    "  \n",
    "  # visualize words and frequencies\n",
    "  plt.figure(figsize=(12,15)) \n",
    "  ax = sns.barplot(data=d, x= \"count\", y = \"word\") \n",
    "  ax.set(ylabel = 'Word') \n",
    "  plt.show()\n",
    "  \n",
    "# print 100 most frequent words \n",
    "freq_words(dataTraining['plot'], 50)"
   ]
  },
  {
   "cell_type": "code",
   "execution_count": 14,
   "metadata": {},
   "outputs": [
    {
     "name": "stderr",
     "output_type": "stream",
     "text": [
      "[nltk_data] Downloading package stopwords to\n",
      "[nltk_data]     C:\\Users\\ihernandez\\AppData\\Roaming\\nltk_data...\n",
      "[nltk_data]   Package stopwords is already up-to-date!\n",
      "[nltk_data] Downloading package wordnet to\n",
      "[nltk_data]     C:\\Users\\ihernandez\\AppData\\Roaming\\nltk_data...\n",
      "[nltk_data]   Unzipping corpora\\wordnet.zip.\n",
      "[nltk_data] Downloading package punkt to\n",
      "[nltk_data]     C:\\Users\\ihernandez\\AppData\\Roaming\\nltk_data...\n",
      "[nltk_data]   Unzipping tokenizers\\punkt.zip.\n",
      "[nltk_data] Downloading package averaged_perceptron_tagger to\n",
      "[nltk_data]     C:\\Users\\ihernandez\\AppData\\Roaming\\nltk_data...\n",
      "[nltk_data]   Unzipping taggers\\averaged_perceptron_tagger.zip.\n"
     ]
    },
    {
     "data": {
      "text/plain": [
       "True"
      ]
     },
     "execution_count": 14,
     "metadata": {},
     "output_type": "execute_result"
    }
   ],
   "source": [
    "import nltk\n",
    "nltk.download('stopwords')\n",
    "nltk.download('wordnet')\n",
    "nltk.download('punkt')\n",
    "nltk.download('averaged_perceptron_tagger') "
   ]
  },
  {
   "cell_type": "markdown",
   "metadata": {},
   "source": [
    "Se evidencia en el gráfico que es necesario realizar limpieza en el texto de \"plot\" para poder analizar mejor el texto para predecir el gpenero de cada pelicula, esto se realizó tanto en train como en test:"
   ]
  },
  {
   "cell_type": "code",
   "execution_count": 18,
   "metadata": {},
   "outputs": [],
   "source": [
    "from nltk.corpus import stopwords"
   ]
  },
  {
   "cell_type": "code",
   "execution_count": 15,
   "metadata": {},
   "outputs": [],
   "source": [
    "dataTraining['nosw_plot'] = dataTraining['plot']"
   ]
  },
  {
   "cell_type": "code",
   "execution_count": 16,
   "metadata": {},
   "outputs": [],
   "source": [
    "dataTesting['nosw_plot'] = dataTesting['plot']"
   ]
  },
  {
   "cell_type": "code",
   "execution_count": 19,
   "metadata": {},
   "outputs": [],
   "source": [
    "stop_words = set(stopwords.words('english'))\n",
    "\n",
    "# function to remove stopwords\n",
    "def remove_stopwords(text):\n",
    "    no_stopword_text = [w for w in text.split() if not w in stop_words]\n",
    "    return ' '.join(no_stopword_text)\n",
    "\n",
    "dataTraining['nosw_plot'] = dataTraining['nosw_plot'].apply(lambda x: remove_stopwords(x))"
   ]
  },
  {
   "cell_type": "code",
   "execution_count": 20,
   "metadata": {},
   "outputs": [],
   "source": [
    "stop_words = set(stopwords.words('english'))\n",
    "\n",
    "# function to remove stopwords\n",
    "def remove_stopwords(text):\n",
    "    no_stopword_text = [w for w in text.split() if not w in stop_words]\n",
    "    return ' '.join(no_stopword_text)\n",
    "\n",
    "dataTesting['nosw_plot'] = dataTesting['nosw_plot'].apply(lambda x: remove_stopwords(x))"
   ]
  },
  {
   "cell_type": "code",
   "execution_count": 21,
   "metadata": {
    "scrolled": true
   },
   "outputs": [
    {
     "data": {
      "image/png": "[encoded data removed]",
      "text/plain": [
       "<Figure size 864x1080 with 1 Axes>"
      ]
     },
     "metadata": {
      "needs_background": "light"
     },
     "output_type": "display_data"
    },
    {
     "data": {
      "text/plain": [
       "0       story single father takes eight year - old son...\n",
       "1       serial killer decides teach secrets satisfying...\n",
       "2       sweden , female blackmailer disfiguring facial...\n",
       "3       friday afternoon new york , president tredway ...\n",
       "4       los angeles , editor publishing house carol hu...\n",
       "                              ...                        \n",
       "7890    \" marriage , wedding . \" ' lesson number one n...\n",
       "7891    wandering barbarian , conan , alongside goofy ...\n",
       "7892    like tale spun scheherazade , kismet follows r...\n",
       "7893    mrs . brisby , widowed mouse , lives cinder bl...\n",
       "7894    tinker bell journey far north never land patch...\n",
       "Name: nosw_plot, Length: 7895, dtype: object"
      ]
     },
     "execution_count": 21,
     "metadata": {},
     "output_type": "execute_result"
    }
   ],
   "source": [
    "freq_words(dataTraining['nosw_plot'], 20)\n",
    "dataTraining['nosw_plot']"
   ]
  },
  {
   "cell_type": "code",
   "execution_count": 22,
   "metadata": {},
   "outputs": [
    {
     "data": {
      "image/png": "[encoded data removed]",
      "text/plain": [
       "<Figure size 864x1080 with 1 Axes>"
      ]
     },
     "metadata": {
      "needs_background": "light"
     },
     "output_type": "display_data"
    },
    {
     "data": {
      "text/plain": [
       "0       story single father takes eight year  old son ...\n",
       "1       serial killer decides teach secrets satisfying...\n",
       "2       sweden  female blackmailer disfiguring facial ...\n",
       "3       friday afternoon new york  president tredway c...\n",
       "4       los angeles  editor publishing house carol hun...\n",
       "                              ...                        \n",
       "7890     marriage  wedding    lesson number one newly ...\n",
       "7891    wandering barbarian  conan  alongside goofy ro...\n",
       "7892    like tale spun scheherazade  kismet follows re...\n",
       "7893    mrs  brisby  widowed mouse  lives cinder block...\n",
       "7894    tinker bell journey far north never land patch...\n",
       "Name: nosw_plot, Length: 7895, dtype: object"
      ]
     },
     "execution_count": 22,
     "metadata": {},
     "output_type": "execute_result"
    }
   ],
   "source": [
    "#Eliiminar puntuacion y Ns que se usan para no escribir un número exacto\n",
    "char=[' N ',';',':',',','?','.','\"','-','(',')','\\'',' n ']\n",
    "for i in range(0,len(char)):\n",
    "  dataTraining['nosw_plot']=dataTraining['nosw_plot'].apply(lambda x: x.replace(char[i],''))\n",
    "freq_words(dataTraining['nosw_plot'], 20)\n",
    "dataTraining['nosw_plot']"
   ]
  },
  {
   "cell_type": "code",
   "execution_count": 23,
   "metadata": {},
   "outputs": [
    {
     "data": {
      "image/png": "[encoded data removed]",
      "text/plain": [
       "<Figure size 864x1080 with 1 Axes>"
      ]
     },
     "metadata": {
      "needs_background": "light"
     },
     "output_type": "display_data"
    },
    {
     "data": {
      "text/plain": [
       "0       meets fate  shall sealed fate  theresa osborne...\n",
       "1       true story billy hayes  american college stude...\n",
       "2       martin vail left chicago da  office become suc...\n",
       "3       husband wife americans dr  eugene mrs  helen f...\n",
       "4       coroner scientist dr  warren chapin researchin...\n",
       "                              ...                        \n",
       "3378    bangkok  assassin turns job hits close home fi...\n",
       "3379    eleven separate vignettes presented   celebrit...\n",
       "3380    joey evans charming  handsome  funny  talented...\n",
       "3381    singing veggies encounter car trouble   strand...\n",
       "3382    genetically mutated dog stolen lab mad scienti...\n",
       "Name: nosw_plot, Length: 3383, dtype: object"
      ]
     },
     "execution_count": 23,
     "metadata": {},
     "output_type": "execute_result"
    }
   ],
   "source": [
    "#Eliiminar puntuacion y Ns que se usan para no escribir un número exacto\n",
    "char=[' N ',';',':',',','?','.','\"','-','(',')','\\'',' n ']\n",
    "for i in range(0,len(char)):\n",
    "  dataTesting['nosw_plot']=dataTesting['nosw_plot'].apply(lambda x: x.replace(char[i],''))\n",
    "freq_words(dataTesting['nosw_plot'], 20)\n",
    "dataTesting['nosw_plot']"
   ]
  },
  {
   "cell_type": "markdown",
   "metadata": {},
   "source": [
    "### Create count vectorizer\n"
   ]
  },
  {
   "cell_type": "code",
   "execution_count": 24,
   "metadata": {},
   "outputs": [
    {
     "data": {
      "text/plain": [
       "(7895, 1000)"
      ]
     },
     "execution_count": 24,
     "metadata": {},
     "output_type": "execute_result"
    }
   ],
   "source": [
    "vect = CountVectorizer(max_features=1000)\n",
    "X_dtm = vect.fit_transform(dataTraining['plot'])\n",
    "X_dtm.shape"
   ]
  },
  {
   "cell_type": "code",
   "execution_count": 25,
   "metadata": {},
   "outputs": [
    {
     "data": {
      "text/plain": [
       "(7895, 1000)"
      ]
     },
     "execution_count": 25,
     "metadata": {},
     "output_type": "execute_result"
    }
   ],
   "source": [
    "vect_nosw = CountVectorizer(max_features=1000)\n",
    "X_dtm_2 = vect_nosw.fit_transform(dataTraining['nosw_plot'])\n",
    "X_dtm_2.shape"
   ]
  },
  {
   "cell_type": "markdown",
   "metadata": {},
   "source": [
    "Creación de la data input, basado en el Plot de cada película, transformado en vector"
   ]
  },
  {
   "cell_type": "code",
   "execution_count": 26,
   "metadata": {},
   "outputs": [
    {
     "name": "stdout",
     "output_type": "stream",
     "text": [
      "['abandoned', 'able', 'about', 'accepts', 'accident', 'accidentally', 'across', 'act', 'action', 'actor', 'actress', 'actually', 'adam', 'adult', 'adventure', 'affair', 'after', 'again', 'against', 'age', 'agent', 'agents', 'ago', 'agrees', 'air', 'alan', 'alex', 'alice', 'alien', 'alive', 'all', 'almost', 'alone', 'along', 'already', 'also', 'although', 'always', 'america', 'american', 'among', 'an', 'and', 'angeles', 'ann', 'anna', 'another', 'any', 'anyone', 'anything']\n"
     ]
    }
   ],
   "source": [
    "print(vect.get_feature_names()[:50])"
   ]
  },
  {
   "cell_type": "markdown",
   "metadata": {},
   "source": [
    "### Create y"
   ]
  },
  {
   "cell_type": "code",
   "execution_count": 27,
   "metadata": {},
   "outputs": [],
   "source": [
    "le = MultiLabelBinarizer()\n",
    "y_genres = le.fit_transform(dataTraining['genres'])"
   ]
  },
  {
   "cell_type": "code",
   "execution_count": 28,
   "metadata": {},
   "outputs": [
    {
     "data": {
      "text/plain": [
       "array([[0, 0, 0, ..., 0, 0, 0],\n",
       "       [0, 0, 0, ..., 0, 0, 0],\n",
       "       [0, 0, 0, ..., 1, 0, 0],\n",
       "       ...,\n",
       "       [0, 1, 0, ..., 0, 0, 0],\n",
       "       [0, 1, 1, ..., 0, 0, 0],\n",
       "       [0, 1, 1, ..., 0, 0, 0]])"
      ]
     },
     "execution_count": 28,
     "metadata": {},
     "output_type": "execute_result"
    }
   ],
   "source": [
    "y_genres"
   ]
  },
  {
   "cell_type": "code",
   "execution_count": 29,
   "metadata": {},
   "outputs": [],
   "source": [
    "X_train, X_test, y_train_genres, y_test_genres = train_test_split(X_dtm, y_genres, test_size=0.33, random_state=42)"
   ]
  },
  {
   "cell_type": "code",
   "execution_count": 30,
   "metadata": {},
   "outputs": [],
   "source": [
    "X2_train, X2_test, y2_train_genres, y2_test_genres = train_test_split(X_dtm_2, y_genres, test_size=0.33, random_state=42)"
   ]
  },
  {
   "cell_type": "markdown",
   "metadata": {},
   "source": [
    "### Train multi-class multi-label model"
   ]
  },
  {
   "cell_type": "markdown",
   "metadata": {},
   "source": [
    "A continuación se validarán diferentes modelos de clasficación donde se seleccionará el mejor por medio de la métrica del mayor accuracy, de igual manera se tendrá en cuenta el comportamiento del modelo en la competencia de la plataforma Kaggle:"
   ]
  },
  {
   "cell_type": "markdown",
   "metadata": {},
   "source": [
    "### Regresión Lineal"
   ]
  },
  {
   "cell_type": "code",
   "execution_count": 72,
   "metadata": {},
   "outputs": [],
   "source": [
    "from sklearn import linear_model"
   ]
  },
  {
   "cell_type": "code",
   "execution_count": 73,
   "metadata": {},
   "outputs": [],
   "source": [
    "X_train, X_test, y_train, y_test = train_test_split(X_dtm, y_genres, test_size=0.33, random_state=42)\n",
    "regr = linear_model.LinearRegression()"
   ]
  },
  {
   "cell_type": "code",
   "execution_count": 74,
   "metadata": {},
   "outputs": [
    {
     "data": {
      "text/plain": [
       "LinearRegression()"
      ]
     },
     "execution_count": 74,
     "metadata": {},
     "output_type": "execute_result"
    }
   ],
   "source": [
    "regr.fit(X_train, y_train)"
   ]
  },
  {
   "cell_type": "code",
   "execution_count": 75,
   "metadata": {},
   "outputs": [
    {
     "data": {
      "text/plain": [
       "0.7701415272020969"
      ]
     },
     "execution_count": 75,
     "metadata": {},
     "output_type": "execute_result"
    }
   ],
   "source": [
    "y_pred = regr.predict(X_test)\n",
    "##print((y_pred == y_test).mean())\n",
    "roc_auc_score(y_test, y_pred, average='macro')"
   ]
  },
  {
   "cell_type": "code",
   "execution_count": 76,
   "metadata": {},
   "outputs": [],
   "source": [
    "#####"
   ]
  },
  {
   "cell_type": "code",
   "execution_count": 77,
   "metadata": {},
   "outputs": [],
   "source": [
    "X_train, X_test, y_train, y_test = train_test_split(X_dtm, y_genres, test_size=0.33, random_state=42)"
   ]
  },
  {
   "cell_type": "code",
   "execution_count": 78,
   "metadata": {},
   "outputs": [],
   "source": [
    "clf = OneVsRestClassifier(linear_model.LinearRegression())"
   ]
  },
  {
   "cell_type": "code",
   "execution_count": 79,
   "metadata": {},
   "outputs": [
    {
     "data": {
      "text/plain": [
       "OneVsRestClassifier(estimator=LinearRegression())"
      ]
     },
     "execution_count": 79,
     "metadata": {},
     "output_type": "execute_result"
    }
   ],
   "source": [
    "clf.fit(X_train, y_train)"
   ]
  },
  {
   "cell_type": "code",
   "execution_count": 80,
   "metadata": {},
   "outputs": [
    {
     "data": {
      "text/plain": [
       "0.584704435084963"
      ]
     },
     "execution_count": 80,
     "metadata": {},
     "output_type": "execute_result"
    }
   ],
   "source": [
    "y_pred = clf.predict(X_test)\n",
    "##print((y_pred == y_test).mean())\n",
    "roc_auc_score(y_test, y_pred, average='macro')"
   ]
  },
  {
   "cell_type": "markdown",
   "metadata": {},
   "source": [
    "### Random Forest\n"
   ]
  },
  {
   "cell_type": "code",
   "execution_count": null,
   "metadata": {},
   "outputs": [],
   "source": [
    "from sklearn.ensemble import RandomForestClassifier\n",
    "from sklearn.model_selection import train_test_split"
   ]
  },
  {
   "cell_type": "code",
   "execution_count": 31,
   "metadata": {},
   "outputs": [
    {
     "data": {
      "text/plain": [
       "0.7654271350111982"
      ]
     },
     "execution_count": 31,
     "metadata": {},
     "output_type": "execute_result"
    }
   ],
   "source": [
    "clf_nosw = OneVsRestClassifier(RandomForestClassifier(n_jobs=-1, n_estimators=100, max_depth=10, random_state=42))\n",
    "clf_nosw.fit(X2_train, y2_train_genres)\n",
    "y2_pred_genres = clf_nosw.predict_proba(X2_test)\n",
    "roc_auc_score(y2_test_genres, y2_pred_genres, average='macro')"
   ]
  },
  {
   "cell_type": "code",
   "execution_count": 46,
   "metadata": {},
   "outputs": [],
   "source": [
    "X_train, X_test, y_train, y_test = train_test_split(X_dtm, y_genres, test_size=0.33, random_state=42)\n",
    "clf = RandomForestClassifier(n_jobs=-1, n_estimators=10)"
   ]
  },
  {
   "cell_type": "code",
   "execution_count": 47,
   "metadata": {},
   "outputs": [
    {
     "data": {
      "text/plain": [
       "0.5242175319164365"
      ]
     },
     "execution_count": 47,
     "metadata": {},
     "output_type": "execute_result"
    }
   ],
   "source": [
    "clf.fit(X_train, y_train)\n",
    "y_pred = clf.predict(X_test)\n",
    "##print((y_pred == y_test).mean())\n",
    "roc_auc_score(y_test, y_pred, average='macro')"
   ]
  },
  {
   "cell_type": "code",
   "execution_count": 48,
   "metadata": {},
   "outputs": [],
   "source": [
    "X_train, X_test, y_train, y_test = train_test_split(X_dtm, y_genres, test_size=0.33, random_state=42)\n",
    "clf =clf = OneVsRestClassifier(RandomForestClassifier(n_jobs=-10, n_estimators=100))"
   ]
  },
  {
   "cell_type": "code",
   "execution_count": 49,
   "metadata": {},
   "outputs": [
    {
     "data": {
      "text/plain": [
       "0.751056892801679"
      ]
     },
     "execution_count": 49,
     "metadata": {},
     "output_type": "execute_result"
    }
   ],
   "source": [
    "clf.fit(X_train, y_train)\n",
    "y_pred = clf.predict_proba(X_test)\n",
    "##print((y_pred == y_test).mean())\n",
    "roc_auc_score(y_test, y_pred, average='macro')"
   ]
  },
  {
   "cell_type": "code",
   "execution_count": 50,
   "metadata": {},
   "outputs": [],
   "source": [
    "X_test_dtm = vect.transform(dataTesting['plot'])\n",
    "\n",
    "cols = ['p_Action', 'p_Adventure', 'p_Animation', 'p_Biography', 'p_Comedy', 'p_Crime', 'p_Documentary', 'p_Drama', 'p_Family',\n",
    "        'p_Fantasy', 'p_Film-Noir', 'p_History', 'p_Horror', 'p_Music', 'p_Musical', 'p_Mystery', 'p_News', 'p_Romance',\n",
    "        'p_Sci-Fi', 'p_Short', 'p_Sport', 'p_Thriller', 'p_War', 'p_Western']\n",
    "\n",
    "y_pred_test_genres = clf.predict_proba(X_test_dtm)"
   ]
  },
  {
   "cell_type": "code",
   "execution_count": 169,
   "metadata": {},
   "outputs": [],
   "source": [
    "res = pd.DataFrame(y_pred_test_genres, index=dataTesting.index, columns=cols)"
   ]
  },
  {
   "cell_type": "code",
   "execution_count": 170,
   "metadata": {},
   "outputs": [
    {
     "data": {
      "text/html": [
       "<div>\n",
       "<style scoped>\n",
       "    .dataframe tbody tr th:only-of-type {\n",
       "        vertical-align: middle;\n",
       "    }\n",
       "\n",
       "    .dataframe tbody tr th {\n",
       "        vertical-align: top;\n",
       "    }\n",
       "\n",
       "    .dataframe thead th {\n",
       "        text-align: right;\n",
       "    }\n",
       "</style>\n",
       "<table border=\"1\" class=\"dataframe\">\n",
       "  <thead>\n",
       "    <tr style=\"text-align: right;\">\n",
       "      <th></th>\n",
       "      <th>p_Action</th>\n",
       "      <th>p_Adventure</th>\n",
       "      <th>p_Animation</th>\n",
       "      <th>p_Biography</th>\n",
       "      <th>p_Comedy</th>\n",
       "      <th>p_Crime</th>\n",
       "      <th>p_Documentary</th>\n",
       "      <th>p_Drama</th>\n",
       "      <th>p_Family</th>\n",
       "      <th>p_Fantasy</th>\n",
       "      <th>...</th>\n",
       "      <th>p_Musical</th>\n",
       "      <th>p_Mystery</th>\n",
       "      <th>p_News</th>\n",
       "      <th>p_Romance</th>\n",
       "      <th>p_Sci-Fi</th>\n",
       "      <th>p_Short</th>\n",
       "      <th>p_Sport</th>\n",
       "      <th>p_Thriller</th>\n",
       "      <th>p_War</th>\n",
       "      <th>p_Western</th>\n",
       "    </tr>\n",
       "  </thead>\n",
       "  <tbody>\n",
       "    <tr>\n",
       "      <th>1</th>\n",
       "      <td>0.04</td>\n",
       "      <td>0.07</td>\n",
       "      <td>0.00</td>\n",
       "      <td>0.03</td>\n",
       "      <td>0.36</td>\n",
       "      <td>0.08</td>\n",
       "      <td>0.05</td>\n",
       "      <td>0.49</td>\n",
       "      <td>0.02</td>\n",
       "      <td>0.06</td>\n",
       "      <td>...</td>\n",
       "      <td>0.02</td>\n",
       "      <td>0.03</td>\n",
       "      <td>0.00</td>\n",
       "      <td>0.58</td>\n",
       "      <td>0.02</td>\n",
       "      <td>0.01</td>\n",
       "      <td>0.00</td>\n",
       "      <td>0.09</td>\n",
       "      <td>0.02</td>\n",
       "      <td>0.00</td>\n",
       "    </tr>\n",
       "    <tr>\n",
       "      <th>4</th>\n",
       "      <td>0.21</td>\n",
       "      <td>0.00</td>\n",
       "      <td>0.01</td>\n",
       "      <td>0.10</td>\n",
       "      <td>0.36</td>\n",
       "      <td>0.33</td>\n",
       "      <td>0.12</td>\n",
       "      <td>0.53</td>\n",
       "      <td>0.00</td>\n",
       "      <td>0.01</td>\n",
       "      <td>...</td>\n",
       "      <td>0.01</td>\n",
       "      <td>0.03</td>\n",
       "      <td>0.01</td>\n",
       "      <td>0.25</td>\n",
       "      <td>0.02</td>\n",
       "      <td>0.00</td>\n",
       "      <td>0.00</td>\n",
       "      <td>0.12</td>\n",
       "      <td>0.06</td>\n",
       "      <td>0.01</td>\n",
       "    </tr>\n",
       "    <tr>\n",
       "      <th>5</th>\n",
       "      <td>0.23</td>\n",
       "      <td>0.12</td>\n",
       "      <td>0.01</td>\n",
       "      <td>0.14</td>\n",
       "      <td>0.34</td>\n",
       "      <td>0.52</td>\n",
       "      <td>0.01</td>\n",
       "      <td>0.64</td>\n",
       "      <td>0.09</td>\n",
       "      <td>0.08</td>\n",
       "      <td>...</td>\n",
       "      <td>0.01</td>\n",
       "      <td>0.32</td>\n",
       "      <td>0.00</td>\n",
       "      <td>0.42</td>\n",
       "      <td>0.11</td>\n",
       "      <td>0.00</td>\n",
       "      <td>0.04</td>\n",
       "      <td>0.40</td>\n",
       "      <td>0.05</td>\n",
       "      <td>0.03</td>\n",
       "    </tr>\n",
       "    <tr>\n",
       "      <th>6</th>\n",
       "      <td>0.13</td>\n",
       "      <td>0.18</td>\n",
       "      <td>0.01</td>\n",
       "      <td>0.06</td>\n",
       "      <td>0.19</td>\n",
       "      <td>0.10</td>\n",
       "      <td>0.05</td>\n",
       "      <td>0.63</td>\n",
       "      <td>0.11</td>\n",
       "      <td>0.01</td>\n",
       "      <td>...</td>\n",
       "      <td>0.15</td>\n",
       "      <td>0.22</td>\n",
       "      <td>0.00</td>\n",
       "      <td>0.24</td>\n",
       "      <td>0.19</td>\n",
       "      <td>0.00</td>\n",
       "      <td>0.04</td>\n",
       "      <td>0.34</td>\n",
       "      <td>0.09</td>\n",
       "      <td>0.01</td>\n",
       "    </tr>\n",
       "    <tr>\n",
       "      <th>7</th>\n",
       "      <td>0.20</td>\n",
       "      <td>0.13</td>\n",
       "      <td>0.01</td>\n",
       "      <td>0.02</td>\n",
       "      <td>0.26</td>\n",
       "      <td>0.27</td>\n",
       "      <td>0.01</td>\n",
       "      <td>0.49</td>\n",
       "      <td>0.06</td>\n",
       "      <td>0.15</td>\n",
       "      <td>...</td>\n",
       "      <td>0.03</td>\n",
       "      <td>0.10</td>\n",
       "      <td>0.00</td>\n",
       "      <td>0.18</td>\n",
       "      <td>0.26</td>\n",
       "      <td>0.00</td>\n",
       "      <td>0.03</td>\n",
       "      <td>0.23</td>\n",
       "      <td>0.03</td>\n",
       "      <td>0.01</td>\n",
       "    </tr>\n",
       "  </tbody>\n",
       "</table>\n",
       "<p>5 rows × 24 columns</p>\n",
       "</div>"
      ],
      "text/plain": [
       "   p_Action  p_Adventure  p_Animation  p_Biography  p_Comedy  p_Crime  \\\n",
       "1      0.04         0.07         0.00         0.03      0.36     0.08   \n",
       "4      0.21         0.00         0.01         0.10      0.36     0.33   \n",
       "5      0.23         0.12         0.01         0.14      0.34     0.52   \n",
       "6      0.13         0.18         0.01         0.06      0.19     0.10   \n",
       "7      0.20         0.13         0.01         0.02      0.26     0.27   \n",
       "\n",
       "   p_Documentary  p_Drama  p_Family  p_Fantasy  ...  p_Musical  p_Mystery  \\\n",
       "1           0.05     0.49      0.02       0.06  ...       0.02       0.03   \n",
       "4           0.12     0.53      0.00       0.01  ...       0.01       0.03   \n",
       "5           0.01     0.64      0.09       0.08  ...       0.01       0.32   \n",
       "6           0.05     0.63      0.11       0.01  ...       0.15       0.22   \n",
       "7           0.01     0.49      0.06       0.15  ...       0.03       0.10   \n",
       "\n",
       "   p_News  p_Romance  p_Sci-Fi  p_Short  p_Sport  p_Thriller  p_War  p_Western  \n",
       "1    0.00       0.58      0.02     0.01     0.00        0.09   0.02       0.00  \n",
       "4    0.01       0.25      0.02     0.00     0.00        0.12   0.06       0.01  \n",
       "5    0.00       0.42      0.11     0.00     0.04        0.40   0.05       0.03  \n",
       "6    0.00       0.24      0.19     0.00     0.04        0.34   0.09       0.01  \n",
       "7    0.00       0.18      0.26     0.00     0.03        0.23   0.03       0.01  \n",
       "\n",
       "[5 rows x 24 columns]"
      ]
     },
     "execution_count": 170,
     "metadata": {},
     "output_type": "execute_result"
    }
   ],
   "source": [
    "res.head()"
   ]
  },
  {
   "cell_type": "code",
   "execution_count": 171,
   "metadata": {},
   "outputs": [],
   "source": [
    "res.to_csv('pred_genres_text_RF_1.csv', index_label='ID')"
   ]
  },
  {
   "cell_type": "markdown",
   "metadata": {},
   "source": [
    "### XGBoost \n",
    "\n",
    "Se realizan dos modelos con diferentes parámetros en donde se evidencia mejora en la predicción al ingresar el tipo de variable objetivo y el modelo basado en árboles \"gbtree\":\n"
   ]
  },
  {
   "cell_type": "code",
   "execution_count": 33,
   "metadata": {},
   "outputs": [
    {
     "data": {
      "text/plain": [
       "0.7788605626738184"
      ]
     },
     "execution_count": 33,
     "metadata": {},
     "output_type": "execute_result"
    }
   ],
   "source": [
    "from xgboost import XGBClassifier\n",
    "\n",
    "clf2 = OneVsRestClassifier(XGBClassifier(random_state=42, eval_metric='mlogloss'))\n",
    "clf2.fit(X_train, y_train_genres)\n",
    "y_pred_genres = clf2.predict_proba(X_test)\n",
    "roc_auc_score(y_test_genres, y_pred_genres, average='macro')"
   ]
  },
  {
   "cell_type": "code",
   "execution_count": 35,
   "metadata": {},
   "outputs": [
    {
     "data": {
      "text/plain": [
       "0.7997064173811023"
      ]
     },
     "execution_count": 35,
     "metadata": {},
     "output_type": "execute_result"
    }
   ],
   "source": [
    "from xgboost import XGBClassifier\n",
    "\n",
    "clf2_nosw = OneVsRestClassifier(XGBClassifier(booster='gbtree', objective='binary:logistic', random_state=42, eval_metric='mlogloss'))\n",
    "clf2_nosw.fit(X2_train, y2_train_genres)\n",
    "y2_pred_genres = clf2_nosw.predict_proba(X2_test)\n",
    "roc_auc_score(y2_test_genres, y2_pred_genres, average='macro')   #0.7998102029676959"
   ]
  },
  {
   "cell_type": "markdown",
   "metadata": {},
   "source": [
    "### Árboles  - Bagging\n",
    "\n",
    "Se realizan un modelos adicionales basados en árboles para compararlos con los anteriores:"
   ]
  },
  {
   "cell_type": "code",
   "execution_count": 38,
   "metadata": {},
   "outputs": [
    {
     "data": {
      "text/plain": [
       "0.6881098272666684"
      ]
     },
     "execution_count": 38,
     "metadata": {},
     "output_type": "execute_result"
    }
   ],
   "source": [
    "from sklearn.tree import DecisionTreeClassifier\n",
    "from sklearn.ensemble import BaggingClassifier\n",
    "\n",
    "clf3 = OneVsRestClassifier(BaggingClassifier(base_estimator = DecisionTreeClassifier(), \n",
    "                                     n_estimators = 10, random_state = 1))\n",
    "\n",
    "clf3.fit(X_train, y_train_genres)\n",
    "y_pred_genres = clf3.predict_proba(X_test)\n",
    "roc_auc_score(y_test_genres, y_pred_genres, average='macro')"
   ]
  },
  {
   "cell_type": "code",
   "execution_count": 53,
   "metadata": {},
   "outputs": [],
   "source": [
    "X_train, X_test, y_train, y_test = train_test_split(X_dtm, y_genres, test_size=0.33, random_state=42)\n",
    "\n",
    "clf = DecisionTreeClassifier(max_depth=10, random_state=1)"
   ]
  },
  {
   "cell_type": "code",
   "execution_count": 54,
   "metadata": {},
   "outputs": [
    {
     "data": {
      "text/plain": [
       "DecisionTreeClassifier(max_depth=10, random_state=1)"
      ]
     },
     "execution_count": 54,
     "metadata": {},
     "output_type": "execute_result"
    }
   ],
   "source": [
    "clf.fit(X_train, y_train)\n",
    "#y_pred = clf.predict(X_test)\n",
    "#roc_auc_score(y_test, y_pred, average='macro')"
   ]
  },
  {
   "cell_type": "code",
   "execution_count": 55,
   "metadata": {},
   "outputs": [
    {
     "data": {
      "text/plain": [
       "0.5376464101244524"
      ]
     },
     "execution_count": 55,
     "metadata": {},
     "output_type": "execute_result"
    }
   ],
   "source": [
    "y_pred = clf.predict(X_test)\n",
    "##print((y_pred == y_test).mean())\n",
    "roc_auc_score(y_test, y_pred, average='macro')"
   ]
  },
  {
   "cell_type": "code",
   "execution_count": 56,
   "metadata": {},
   "outputs": [],
   "source": [
    "X_train, X_test, y_train, y_test = train_test_split(X_dtm, y_genres, test_size=0.33, random_state=42)\n",
    "\n",
    "clf = OneVsRestClassifier(DecisionTreeClassifier(max_depth=5, random_state=1))"
   ]
  },
  {
   "cell_type": "code",
   "execution_count": 57,
   "metadata": {},
   "outputs": [
    {
     "data": {
      "text/plain": [
       "OneVsRestClassifier(estimator=DecisionTreeClassifier(max_depth=5,\n",
       "                                                     random_state=1))"
      ]
     },
     "execution_count": 57,
     "metadata": {},
     "output_type": "execute_result"
    }
   ],
   "source": [
    "clf.fit(X_train, y_train)"
   ]
  },
  {
   "cell_type": "code",
   "execution_count": 89,
   "metadata": {},
   "outputs": [
    {
     "data": {
      "text/plain": [
       "0.6300077933621188"
      ]
     },
     "execution_count": 89,
     "metadata": {},
     "output_type": "execute_result"
    }
   ],
   "source": [
    "y_pred = clf.predict_proba(X_test)\n",
    "##print((y_pred == y_test).mean())\n",
    "roc_auc_score(y_test, y_pred, average='macro')"
   ]
  },
  {
   "cell_type": "markdown",
   "metadata": {},
   "source": [
    "### Support Vector Machine\n",
    "\n",
    "Se realizan dos modelos, el primero incluye solamente la especificación del tipo de predicción, el segundo se incluye un parámetro 'estimador de kernel' el cual se itera en una grilla de 1 a 10:"
   ]
  },
  {
   "cell_type": "code",
   "execution_count": 45,
   "metadata": {},
   "outputs": [
    {
     "data": {
      "text/plain": [
       "0.7979883398556423"
      ]
     },
     "execution_count": 45,
     "metadata": {},
     "output_type": "execute_result"
    }
   ],
   "source": [
    "from sklearn.svm import SVC\n",
    "\n",
    "clf4_nosw = OneVsRestClassifier(SVC(probability=True))\n",
    "clf4_nosw.fit(X2_train, y2_train_genres)\n",
    "y2_pred_genres = clf4_nosw.predict_proba(X2_test)\n",
    "roc_auc_score(y2_test_genres, y2_pred_genres, average='macro')"
   ]
  },
  {
   "cell_type": "code",
   "execution_count": 82,
   "metadata": {},
   "outputs": [
    {
     "data": {
      "text/plain": [
       "GridSearchCV(estimator=OneVsRestClassifier(estimator=SVC(probability=True)),\n",
       "             param_grid={'estimator__C': [1, 10],\n",
       "                         'estimator__kernel': ('linear', 'rbf')})"
      ]
     },
     "execution_count": 82,
     "metadata": {},
     "output_type": "execute_result"
    }
   ],
   "source": [
    "from sklearn import svm \n",
    "from sklearn.model_selection import GridSearchCV\n",
    "parameters = {'estimator__kernel':('linear', 'rbf'), 'estimator__C':[1, 10]}\n",
    "svr = OneVsRestClassifier(svm.SVC(probability=True))\n",
    "clf4 = GridSearchCV(svr, parameters)\n",
    "clf4.fit(X2_train, y2_train_genres)"
   ]
  },
  {
   "cell_type": "code",
   "execution_count": 86,
   "metadata": {},
   "outputs": [
    {
     "data": {
      "text/plain": [
       "0.7898954019180727"
      ]
     },
     "execution_count": 86,
     "metadata": {},
     "output_type": "execute_result"
    }
   ],
   "source": [
    "y2_pred_genres = clf4.predict_proba(X2_test)\n",
    "roc_auc_score(y2_test_genres, y2_pred_genres, average='macro')"
   ]
  },
  {
   "cell_type": "markdown",
   "metadata": {},
   "source": [
    "### Redes Neuronales"
   ]
  },
  {
   "cell_type": "markdown",
   "metadata": {},
   "source": [
    "Se aplica el algoritmo de redes neuronales buscando obtener un mejor comportamiento del modelo según los datos suministrados, de igual manera se calibran diferentes parámetros que maximicen el AUC, como el número de capas y alpha:"
   ]
  },
  {
   "cell_type": "code",
   "execution_count": 58,
   "metadata": {},
   "outputs": [],
   "source": [
    " from sklearn.neural_network import MLPClassifier"
   ]
  },
  {
   "cell_type": "code",
   "execution_count": 59,
   "metadata": {},
   "outputs": [],
   "source": [
    "X_train, X_test, y_train, y_test = train_test_split(X_dtm, y_genres, test_size=0.33, random_state=42)"
   ]
  },
  {
   "cell_type": "code",
   "execution_count": 61,
   "metadata": {},
   "outputs": [
    {
     "data": {
      "text/plain": [
       "0.7796628520306919"
      ]
     },
     "execution_count": 61,
     "metadata": {},
     "output_type": "execute_result"
    }
   ],
   "source": [
    "## Redes Neuronales:\n",
    "\n",
    "clf = MLPClassifier(solver='lbfgs', alpha=1e-5,hidden_layer_sizes=(15,), random_state=1) ##0,7813\n",
    "clf.fit(X_train, y_train)\n",
    "y_pred = clf.predict_proba(X_test)\n",
    "##print((y_pred == y_test).mean())\n",
    "roc_auc_score(y_test, y_pred, average='macro')"
   ]
  },
  {
   "cell_type": "code",
   "execution_count": 62,
   "metadata": {},
   "outputs": [
    {
     "data": {
      "text/plain": [
       "0.7907758219416646"
      ]
     },
     "execution_count": 62,
     "metadata": {},
     "output_type": "execute_result"
    }
   ],
   "source": [
    "clf = MLPClassifier(solver='lbfgs', alpha=10,hidden_layer_sizes=(15,), random_state=1)##0,7856\n",
    "\n",
    "clf.fit(X_train, y_train)\n",
    "y_pred = clf.predict_proba(X_test)\n",
    "##print((y_pred == y_test).mean())\n",
    "roc_auc_score(y_test, y_pred, average='macro')\n"
   ]
  },
  {
   "cell_type": "code",
   "execution_count": 63,
   "metadata": {},
   "outputs": [
    {
     "data": {
      "text/plain": [
       "0.8018538859923617"
      ]
     },
     "execution_count": 63,
     "metadata": {},
     "output_type": "execute_result"
    }
   ],
   "source": [
    "clf = MLPClassifier(solver='lbfgs', alpha=10, random_state=10) ##0,8060\n",
    "clf.fit(X_train, y_train)\n",
    "y_pred = clf.predict_proba(X_test)\n",
    "##print((y_pred == y_test).mean())\n",
    "roc_auc_score(y_test, y_pred, average='macro')\n",
    "\n"
   ]
  },
  {
   "cell_type": "code",
   "execution_count": 65,
   "metadata": {},
   "outputs": [
    {
     "data": {
      "text/plain": [
       "0.7870952785621809"
      ]
     },
     "execution_count": 65,
     "metadata": {},
     "output_type": "execute_result"
    }
   ],
   "source": [
    "clf = MLPClassifier(solver='lbfgs', alpha=10, random_state=10, max_iter=400, validation_fraction=0.5, beta_1=0.5, power_t=0.5)\n",
    "clf.fit(X_train, y_train)\n",
    "y_pred = clf.predict_proba(X_test)\n",
    "##print((y_pred == y_test).mean())\n",
    "roc_auc_score(y_test, y_pred, average='macro')"
   ]
  },
  {
   "cell_type": "code",
   "execution_count": 69,
   "metadata": {},
   "outputs": [],
   "source": [
    "X_test_dtm = vect.transform(dataTesting['plot'])\n",
    "\n",
    "cols = ['p_Action', 'p_Adventure', 'p_Animation', 'p_Biography', 'p_Comedy', 'p_Crime', 'p_Documentary', 'p_Drama', 'p_Family',\n",
    "        'p_Fantasy', 'p_Film-Noir', 'p_History', 'p_Horror', 'p_Music', 'p_Musical', 'p_Mystery', 'p_News', 'p_Romance',\n",
    "        'p_Sci-Fi', 'p_Short', 'p_Sport', 'p_Thriller', 'p_War', 'p_Western']\n",
    "\n",
    "y_pred_test_genres = clf.predict_proba(X_test_dtm)"
   ]
  },
  {
   "cell_type": "code",
   "execution_count": 178,
   "metadata": {},
   "outputs": [],
   "source": [
    "res = pd.DataFrame(y_pred_test_genres, index=dataTesting.index, columns=cols)"
   ]
  },
  {
   "cell_type": "code",
   "execution_count": 179,
   "metadata": {},
   "outputs": [
    {
     "data": {
      "text/html": [
       "<div>\n",
       "<style scoped>\n",
       "    .dataframe tbody tr th:only-of-type {\n",
       "        vertical-align: middle;\n",
       "    }\n",
       "\n",
       "    .dataframe tbody tr th {\n",
       "        vertical-align: top;\n",
       "    }\n",
       "\n",
       "    .dataframe thead th {\n",
       "        text-align: right;\n",
       "    }\n",
       "</style>\n",
       "<table border=\"1\" class=\"dataframe\">\n",
       "  <thead>\n",
       "    <tr style=\"text-align: right;\">\n",
       "      <th></th>\n",
       "      <th>p_Action</th>\n",
       "      <th>p_Adventure</th>\n",
       "      <th>p_Animation</th>\n",
       "      <th>p_Biography</th>\n",
       "      <th>p_Comedy</th>\n",
       "      <th>p_Crime</th>\n",
       "      <th>p_Documentary</th>\n",
       "      <th>p_Drama</th>\n",
       "      <th>p_Family</th>\n",
       "      <th>p_Fantasy</th>\n",
       "      <th>...</th>\n",
       "      <th>p_Musical</th>\n",
       "      <th>p_Mystery</th>\n",
       "      <th>p_News</th>\n",
       "      <th>p_Romance</th>\n",
       "      <th>p_Sci-Fi</th>\n",
       "      <th>p_Short</th>\n",
       "      <th>p_Sport</th>\n",
       "      <th>p_Thriller</th>\n",
       "      <th>p_War</th>\n",
       "      <th>p_Western</th>\n",
       "    </tr>\n",
       "  </thead>\n",
       "  <tbody>\n",
       "    <tr>\n",
       "      <th>1</th>\n",
       "      <td>0.085307</td>\n",
       "      <td>0.518914</td>\n",
       "      <td>3.471339e-03</td>\n",
       "      <td>0.005276</td>\n",
       "      <td>0.075370</td>\n",
       "      <td>0.000186</td>\n",
       "      <td>1.320725e-06</td>\n",
       "      <td>0.334831</td>\n",
       "      <td>1.133314e-02</td>\n",
       "      <td>2.081488e-01</td>\n",
       "      <td>...</td>\n",
       "      <td>0.015436</td>\n",
       "      <td>0.006903</td>\n",
       "      <td>0.000111</td>\n",
       "      <td>0.998212</td>\n",
       "      <td>0.016943</td>\n",
       "      <td>0.001761</td>\n",
       "      <td>0.000731</td>\n",
       "      <td>0.006020</td>\n",
       "      <td>1.170888e-03</td>\n",
       "      <td>4.178996e-02</td>\n",
       "    </tr>\n",
       "    <tr>\n",
       "      <th>4</th>\n",
       "      <td>0.012595</td>\n",
       "      <td>0.000405</td>\n",
       "      <td>9.358488e-05</td>\n",
       "      <td>0.092561</td>\n",
       "      <td>0.128184</td>\n",
       "      <td>0.687648</td>\n",
       "      <td>4.994373e-02</td>\n",
       "      <td>0.874024</td>\n",
       "      <td>2.304568e-04</td>\n",
       "      <td>1.880151e-03</td>\n",
       "      <td>...</td>\n",
       "      <td>0.002688</td>\n",
       "      <td>0.003119</td>\n",
       "      <td>0.000500</td>\n",
       "      <td>0.007049</td>\n",
       "      <td>0.001416</td>\n",
       "      <td>0.006832</td>\n",
       "      <td>0.003975</td>\n",
       "      <td>0.133415</td>\n",
       "      <td>6.883223e-03</td>\n",
       "      <td>6.652139e-03</td>\n",
       "    </tr>\n",
       "    <tr>\n",
       "      <th>5</th>\n",
       "      <td>0.000918</td>\n",
       "      <td>0.000002</td>\n",
       "      <td>1.139928e-08</td>\n",
       "      <td>0.008908</td>\n",
       "      <td>0.000253</td>\n",
       "      <td>0.999228</td>\n",
       "      <td>2.859522e-07</td>\n",
       "      <td>0.545655</td>\n",
       "      <td>1.118678e-08</td>\n",
       "      <td>4.856144e-07</td>\n",
       "      <td>...</td>\n",
       "      <td>0.000004</td>\n",
       "      <td>0.999858</td>\n",
       "      <td>0.000005</td>\n",
       "      <td>0.001820</td>\n",
       "      <td>0.000087</td>\n",
       "      <td>0.000013</td>\n",
       "      <td>0.000048</td>\n",
       "      <td>0.989712</td>\n",
       "      <td>4.738701e-09</td>\n",
       "      <td>2.731771e-08</td>\n",
       "    </tr>\n",
       "    <tr>\n",
       "      <th>6</th>\n",
       "      <td>0.009242</td>\n",
       "      <td>0.003559</td>\n",
       "      <td>2.720204e-05</td>\n",
       "      <td>0.794287</td>\n",
       "      <td>0.000019</td>\n",
       "      <td>0.000073</td>\n",
       "      <td>8.206724e-06</td>\n",
       "      <td>0.999884</td>\n",
       "      <td>5.510729e-05</td>\n",
       "      <td>4.983240e-03</td>\n",
       "      <td>...</td>\n",
       "      <td>0.000015</td>\n",
       "      <td>0.005084</td>\n",
       "      <td>0.000270</td>\n",
       "      <td>0.065732</td>\n",
       "      <td>0.163503</td>\n",
       "      <td>0.000005</td>\n",
       "      <td>0.003022</td>\n",
       "      <td>0.836543</td>\n",
       "      <td>7.914883e-02</td>\n",
       "      <td>4.558378e-03</td>\n",
       "    </tr>\n",
       "    <tr>\n",
       "      <th>7</th>\n",
       "      <td>0.000761</td>\n",
       "      <td>0.006008</td>\n",
       "      <td>1.099318e-03</td>\n",
       "      <td>0.000183</td>\n",
       "      <td>0.097590</td>\n",
       "      <td>0.001055</td>\n",
       "      <td>9.616870e-05</td>\n",
       "      <td>0.008343</td>\n",
       "      <td>4.026123e-04</td>\n",
       "      <td>9.160308e-01</td>\n",
       "      <td>...</td>\n",
       "      <td>0.000866</td>\n",
       "      <td>0.021666</td>\n",
       "      <td>0.000152</td>\n",
       "      <td>0.017715</td>\n",
       "      <td>0.565731</td>\n",
       "      <td>0.002145</td>\n",
       "      <td>0.000022</td>\n",
       "      <td>0.060043</td>\n",
       "      <td>2.095257e-08</td>\n",
       "      <td>4.134749e-03</td>\n",
       "    </tr>\n",
       "  </tbody>\n",
       "</table>\n",
       "<p>5 rows × 24 columns</p>\n",
       "</div>"
      ],
      "text/plain": [
       "   p_Action  p_Adventure   p_Animation  p_Biography  p_Comedy   p_Crime  \\\n",
       "1  0.085307     0.518914  3.471339e-03     0.005276  0.075370  0.000186   \n",
       "4  0.012595     0.000405  9.358488e-05     0.092561  0.128184  0.687648   \n",
       "5  0.000918     0.000002  1.139928e-08     0.008908  0.000253  0.999228   \n",
       "6  0.009242     0.003559  2.720204e-05     0.794287  0.000019  0.000073   \n",
       "7  0.000761     0.006008  1.099318e-03     0.000183  0.097590  0.001055   \n",
       "\n",
       "   p_Documentary   p_Drama      p_Family     p_Fantasy  ...  p_Musical  \\\n",
       "1   1.320725e-06  0.334831  1.133314e-02  2.081488e-01  ...   0.015436   \n",
       "4   4.994373e-02  0.874024  2.304568e-04  1.880151e-03  ...   0.002688   \n",
       "5   2.859522e-07  0.545655  1.118678e-08  4.856144e-07  ...   0.000004   \n",
       "6   8.206724e-06  0.999884  5.510729e-05  4.983240e-03  ...   0.000015   \n",
       "7   9.616870e-05  0.008343  4.026123e-04  9.160308e-01  ...   0.000866   \n",
       "\n",
       "   p_Mystery    p_News  p_Romance  p_Sci-Fi   p_Short   p_Sport  p_Thriller  \\\n",
       "1   0.006903  0.000111   0.998212  0.016943  0.001761  0.000731    0.006020   \n",
       "4   0.003119  0.000500   0.007049  0.001416  0.006832  0.003975    0.133415   \n",
       "5   0.999858  0.000005   0.001820  0.000087  0.000013  0.000048    0.989712   \n",
       "6   0.005084  0.000270   0.065732  0.163503  0.000005  0.003022    0.836543   \n",
       "7   0.021666  0.000152   0.017715  0.565731  0.002145  0.000022    0.060043   \n",
       "\n",
       "          p_War     p_Western  \n",
       "1  1.170888e-03  4.178996e-02  \n",
       "4  6.883223e-03  6.652139e-03  \n",
       "5  4.738701e-09  2.731771e-08  \n",
       "6  7.914883e-02  4.558378e-03  \n",
       "7  2.095257e-08  4.134749e-03  \n",
       "\n",
       "[5 rows x 24 columns]"
      ]
     },
     "execution_count": 179,
     "metadata": {},
     "output_type": "execute_result"
    }
   ],
   "source": [
    "res.head()"
   ]
  },
  {
   "cell_type": "code",
   "execution_count": 180,
   "metadata": {},
   "outputs": [],
   "source": [
    "res.to_csv('pred_genres_text_MLP.csv', index_label='ID')"
   ]
  },
  {
   "cell_type": "code",
   "execution_count": null,
   "metadata": {},
   "outputs": [],
   "source": [
    "#####"
   ]
  },
  {
   "cell_type": "code",
   "execution_count": 66,
   "metadata": {},
   "outputs": [],
   "source": [
    "X_train, X_test, y_train, y_test = train_test_split(X_dtm, y_genres, test_size=0.33, random_state=42)"
   ]
  },
  {
   "cell_type": "code",
   "execution_count": 67,
   "metadata": {},
   "outputs": [],
   "source": [
    "clf = OneVsRestClassifier(MLPClassifier(solver='lbfgs', alpha=10,hidden_layer_sizes=(15,), random_state=1))"
   ]
  },
  {
   "cell_type": "code",
   "execution_count": 68,
   "metadata": {},
   "outputs": [
    {
     "data": {
      "text/plain": [
       "OneVsRestClassifier(estimator=MLPClassifier(alpha=10, hidden_layer_sizes=(15,),\n",
       "                                            random_state=1, solver='lbfgs'))"
      ]
     },
     "execution_count": 68,
     "metadata": {},
     "output_type": "execute_result"
    }
   ],
   "source": [
    "clf.fit(X_train, y_train)"
   ]
  },
  {
   "cell_type": "code",
   "execution_count": 70,
   "metadata": {},
   "outputs": [
    {
     "data": {
      "text/plain": [
       "0.7867486102767308"
      ]
     },
     "execution_count": 70,
     "metadata": {},
     "output_type": "execute_result"
    }
   ],
   "source": [
    "y_pred = clf.predict_proba(X_test)\n",
    "##print((y_pred == y_test).mean())\n",
    "roc_auc_score(y_test, y_pred, average='macro')"
   ]
  },
  {
   "cell_type": "code",
   "execution_count": 71,
   "metadata": {},
   "outputs": [],
   "source": [
    "X_test_dtm = vect.transform(dataTesting['plot'])\n",
    "\n",
    "cols = ['p_Action', 'p_Adventure', 'p_Animation', 'p_Biography', 'p_Comedy', 'p_Crime', 'p_Documentary', 'p_Drama', 'p_Family',\n",
    "        'p_Fantasy', 'p_Film-Noir', 'p_History', 'p_Horror', 'p_Music', 'p_Musical', 'p_Mystery', 'p_News', 'p_Romance',\n",
    "        'p_Sci-Fi', 'p_Short', 'p_Sport', 'p_Thriller', 'p_War', 'p_Western']\n",
    "\n",
    "y_pred_test_genres = clf.predict_proba(X_test_dtm)"
   ]
  },
  {
   "cell_type": "code",
   "execution_count": 186,
   "metadata": {},
   "outputs": [],
   "source": [
    "res = pd.DataFrame(y_pred_test_genres, index=dataTesting.index, columns=cols)"
   ]
  },
  {
   "cell_type": "code",
   "execution_count": 187,
   "metadata": {},
   "outputs": [
    {
     "data": {
      "text/html": [
       "<div>\n",
       "<style scoped>\n",
       "    .dataframe tbody tr th:only-of-type {\n",
       "        vertical-align: middle;\n",
       "    }\n",
       "\n",
       "    .dataframe tbody tr th {\n",
       "        vertical-align: top;\n",
       "    }\n",
       "\n",
       "    .dataframe thead th {\n",
       "        text-align: right;\n",
       "    }\n",
       "</style>\n",
       "<table border=\"1\" class=\"dataframe\">\n",
       "  <thead>\n",
       "    <tr style=\"text-align: right;\">\n",
       "      <th></th>\n",
       "      <th>p_Action</th>\n",
       "      <th>p_Adventure</th>\n",
       "      <th>p_Animation</th>\n",
       "      <th>p_Biography</th>\n",
       "      <th>p_Comedy</th>\n",
       "      <th>p_Crime</th>\n",
       "      <th>p_Documentary</th>\n",
       "      <th>p_Drama</th>\n",
       "      <th>p_Family</th>\n",
       "      <th>p_Fantasy</th>\n",
       "      <th>...</th>\n",
       "      <th>p_Musical</th>\n",
       "      <th>p_Mystery</th>\n",
       "      <th>p_News</th>\n",
       "      <th>p_Romance</th>\n",
       "      <th>p_Sci-Fi</th>\n",
       "      <th>p_Short</th>\n",
       "      <th>p_Sport</th>\n",
       "      <th>p_Thriller</th>\n",
       "      <th>p_War</th>\n",
       "      <th>p_Western</th>\n",
       "    </tr>\n",
       "  </thead>\n",
       "  <tbody>\n",
       "    <tr>\n",
       "      <th>1</th>\n",
       "      <td>0.066938</td>\n",
       "      <td>1.568144e-01</td>\n",
       "      <td>2.671012e-03</td>\n",
       "      <td>0.003190</td>\n",
       "      <td>0.034359</td>\n",
       "      <td>0.001049</td>\n",
       "      <td>4.953002e-06</td>\n",
       "      <td>0.704462</td>\n",
       "      <td>3.194161e-04</td>\n",
       "      <td>3.886657e-02</td>\n",
       "      <td>...</td>\n",
       "      <td>0.013509</td>\n",
       "      <td>0.001147</td>\n",
       "      <td>2.877714e-04</td>\n",
       "      <td>0.996937</td>\n",
       "      <td>0.041346</td>\n",
       "      <td>5.890952e-05</td>\n",
       "      <td>0.006237</td>\n",
       "      <td>0.000663</td>\n",
       "      <td>3.065647e-03</td>\n",
       "      <td>3.342552e-02</td>\n",
       "    </tr>\n",
       "    <tr>\n",
       "      <th>4</th>\n",
       "      <td>0.024215</td>\n",
       "      <td>1.071121e-04</td>\n",
       "      <td>2.565037e-03</td>\n",
       "      <td>0.093069</td>\n",
       "      <td>0.188797</td>\n",
       "      <td>0.162976</td>\n",
       "      <td>5.259304e-02</td>\n",
       "      <td>0.891885</td>\n",
       "      <td>2.743160e-04</td>\n",
       "      <td>2.937920e-04</td>\n",
       "      <td>...</td>\n",
       "      <td>0.005974</td>\n",
       "      <td>0.007664</td>\n",
       "      <td>3.331172e-03</td>\n",
       "      <td>0.014200</td>\n",
       "      <td>0.003603</td>\n",
       "      <td>4.043553e-03</td>\n",
       "      <td>0.001388</td>\n",
       "      <td>0.024701</td>\n",
       "      <td>1.769131e-02</td>\n",
       "      <td>5.163345e-03</td>\n",
       "    </tr>\n",
       "    <tr>\n",
       "      <th>5</th>\n",
       "      <td>0.000023</td>\n",
       "      <td>5.307109e-11</td>\n",
       "      <td>2.540589e-10</td>\n",
       "      <td>0.000013</td>\n",
       "      <td>0.000004</td>\n",
       "      <td>0.999983</td>\n",
       "      <td>2.004360e-06</td>\n",
       "      <td>0.918003</td>\n",
       "      <td>3.400699e-13</td>\n",
       "      <td>1.278438e-08</td>\n",
       "      <td>...</td>\n",
       "      <td>0.002165</td>\n",
       "      <td>0.999599</td>\n",
       "      <td>2.123719e-07</td>\n",
       "      <td>0.000064</td>\n",
       "      <td>0.000533</td>\n",
       "      <td>2.472529e-08</td>\n",
       "      <td>0.000159</td>\n",
       "      <td>0.995210</td>\n",
       "      <td>6.329640e-09</td>\n",
       "      <td>2.342850e-07</td>\n",
       "    </tr>\n",
       "    <tr>\n",
       "      <th>6</th>\n",
       "      <td>0.000040</td>\n",
       "      <td>4.115630e-02</td>\n",
       "      <td>8.391119e-07</td>\n",
       "      <td>0.079396</td>\n",
       "      <td>0.000185</td>\n",
       "      <td>0.000029</td>\n",
       "      <td>4.754204e-05</td>\n",
       "      <td>0.999239</td>\n",
       "      <td>4.853378e-06</td>\n",
       "      <td>1.734027e-03</td>\n",
       "      <td>...</td>\n",
       "      <td>0.000028</td>\n",
       "      <td>0.004502</td>\n",
       "      <td>3.052039e-05</td>\n",
       "      <td>0.566331</td>\n",
       "      <td>0.005431</td>\n",
       "      <td>7.474051e-08</td>\n",
       "      <td>0.001990</td>\n",
       "      <td>0.832148</td>\n",
       "      <td>2.608954e-01</td>\n",
       "      <td>2.337814e-04</td>\n",
       "    </tr>\n",
       "    <tr>\n",
       "      <th>7</th>\n",
       "      <td>0.000006</td>\n",
       "      <td>1.125956e-03</td>\n",
       "      <td>2.118533e-05</td>\n",
       "      <td>0.000026</td>\n",
       "      <td>0.456821</td>\n",
       "      <td>0.052434</td>\n",
       "      <td>5.601325e-10</td>\n",
       "      <td>0.000273</td>\n",
       "      <td>7.773342e-06</td>\n",
       "      <td>7.453784e-02</td>\n",
       "      <td>...</td>\n",
       "      <td>0.000030</td>\n",
       "      <td>0.000791</td>\n",
       "      <td>7.019000e-05</td>\n",
       "      <td>0.005946</td>\n",
       "      <td>0.284703</td>\n",
       "      <td>1.414890e-05</td>\n",
       "      <td>0.000002</td>\n",
       "      <td>0.789965</td>\n",
       "      <td>4.693409e-06</td>\n",
       "      <td>1.423591e-04</td>\n",
       "    </tr>\n",
       "  </tbody>\n",
       "</table>\n",
       "<p>5 rows × 24 columns</p>\n",
       "</div>"
      ],
      "text/plain": [
       "   p_Action   p_Adventure   p_Animation  p_Biography  p_Comedy   p_Crime  \\\n",
       "1  0.066938  1.568144e-01  2.671012e-03     0.003190  0.034359  0.001049   \n",
       "4  0.024215  1.071121e-04  2.565037e-03     0.093069  0.188797  0.162976   \n",
       "5  0.000023  5.307109e-11  2.540589e-10     0.000013  0.000004  0.999983   \n",
       "6  0.000040  4.115630e-02  8.391119e-07     0.079396  0.000185  0.000029   \n",
       "7  0.000006  1.125956e-03  2.118533e-05     0.000026  0.456821  0.052434   \n",
       "\n",
       "   p_Documentary   p_Drama      p_Family     p_Fantasy  ...  p_Musical  \\\n",
       "1   4.953002e-06  0.704462  3.194161e-04  3.886657e-02  ...   0.013509   \n",
       "4   5.259304e-02  0.891885  2.743160e-04  2.937920e-04  ...   0.005974   \n",
       "5   2.004360e-06  0.918003  3.400699e-13  1.278438e-08  ...   0.002165   \n",
       "6   4.754204e-05  0.999239  4.853378e-06  1.734027e-03  ...   0.000028   \n",
       "7   5.601325e-10  0.000273  7.773342e-06  7.453784e-02  ...   0.000030   \n",
       "\n",
       "   p_Mystery        p_News  p_Romance  p_Sci-Fi       p_Short   p_Sport  \\\n",
       "1   0.001147  2.877714e-04   0.996937  0.041346  5.890952e-05  0.006237   \n",
       "4   0.007664  3.331172e-03   0.014200  0.003603  4.043553e-03  0.001388   \n",
       "5   0.999599  2.123719e-07   0.000064  0.000533  2.472529e-08  0.000159   \n",
       "6   0.004502  3.052039e-05   0.566331  0.005431  7.474051e-08  0.001990   \n",
       "7   0.000791  7.019000e-05   0.005946  0.284703  1.414890e-05  0.000002   \n",
       "\n",
       "   p_Thriller         p_War     p_Western  \n",
       "1    0.000663  3.065647e-03  3.342552e-02  \n",
       "4    0.024701  1.769131e-02  5.163345e-03  \n",
       "5    0.995210  6.329640e-09  2.342850e-07  \n",
       "6    0.832148  2.608954e-01  2.337814e-04  \n",
       "7    0.789965  4.693409e-06  1.423591e-04  \n",
       "\n",
       "[5 rows x 24 columns]"
      ]
     },
     "execution_count": 187,
     "metadata": {},
     "output_type": "execute_result"
    }
   ],
   "source": [
    "res.head()"
   ]
  },
  {
   "cell_type": "code",
   "execution_count": 188,
   "metadata": {},
   "outputs": [],
   "source": [
    "res.to_csv('pred_genres_text_ONE_MLP.csv', index_label='ID')"
   ]
  },
  {
   "cell_type": "markdown",
   "metadata": {},
   "source": [
    "### Predict the testing dataset"
   ]
  },
  {
   "cell_type": "code",
   "execution_count": null,
   "metadata": {},
   "outputs": [],
   "source": [
    "X_test_dtm = vect.transform(dataTesting['plot'])\n",
    "\n",
    "cols = ['p_Action', 'p_Adventure', 'p_Animation', 'p_Biography', 'p_Comedy', 'p_Crime', 'p_Documentary', 'p_Drama', 'p_Family',\n",
    "        'p_Fantasy', 'p_Film-Noir', 'p_History', 'p_Horror', 'p_Music', 'p_Musical', 'p_Mystery', 'p_News', 'p_Romance',\n",
    "        'p_Sci-Fi', 'p_Short', 'p_Sport', 'p_Thriller', 'p_War', 'p_Western']\n",
    "\n",
    "y_pred_test_genres = clf.predict_proba(X_test_dtm)\n"
   ]
  },
  {
   "cell_type": "markdown",
   "metadata": {},
   "source": [
    "### Creación del archivo respuesta para subir la predicción a Kaggle"
   ]
  },
  {
   "cell_type": "code",
   "execution_count": null,
   "metadata": {},
   "outputs": [],
   "source": [
    "res = pd.DataFrame(y_pred_test_genres, index=dataTesting.index, columns=cols)"
   ]
  },
  {
   "cell_type": "code",
   "execution_count": null,
   "metadata": {},
   "outputs": [],
   "source": [
    "res.head()"
   ]
  },
  {
   "cell_type": "code",
   "execution_count": null,
   "metadata": {},
   "outputs": [],
   "source": [
    "res.to_csv('pred_genres_text_RF.csv', index_label='ID')"
   ]
  },
  {
   "cell_type": "markdown",
   "metadata": {},
   "source": [
    "### Conclusiones"
   ]
  },
  {
   "cell_type": "markdown",
   "metadata": {},
   "source": [
    "* La  descripción de la trama de cada pelicula, debe limpiarse con stopwords y eliminación de signos de puntuación, ya que la mayoría de las palabras inicialmente estaban dadas por preposiciones. Se evidencia que el análisis textual y la estructuración de la información puede llevar a la mejora en la predicción.\n",
    "\n",
    "* De los modelos de clasificación basados en árboles el que genera la mejor predicción es el xgboost con un AUC de 0,79.\n",
    "\n",
    "* El algoritmo Support Vector Machine generó un rendimiento similar a los modelos basados en árboles, por tanto se hace necesario incluir las redes neuronales para tratar de indentificar de una mejor manera la relación entre la trama y el género cinematográfico.\n",
    "\n",
    "* Las redes neuronales generaron buen rendimiento a medida que se realizan cambios en sus parámetros, este modelo fué el seleccionado como el mejor en la clasificación de la competencia de Kaggle y en resultados del presente nootebook, con un AUC del 0,81.\n",
    "\n",
    "* Los valores obtenido en el AUC del nootebook, son muy similares a los resultados obtenidos en Kaggle donde se espera que en el total de la data se comporten de la misma manera.\n",
    "\n",
    "* Para mejorar la predicción del modelo se recomienda incluir los algoritmos de reconocimiento de imágenes ya que están relacionados directamente con el género de la pelicula, esto podría ser un mejora en este tipo de análisis."
   ]
  },
  {
   "cell_type": "markdown",
   "metadata": {},
   "source": [
    "## Nombre grupo Kaggle: Team 8"
   ]
  },
  {
   "cell_type": "code",
   "execution_count": null,
   "metadata": {},
   "outputs": [],
   "source": []
  }
 ],
 "metadata": {
  "kernelspec": {
   "display_name": "Python 3",
   "language": "python",
   "name": "python3"
  },
  "language_info": {
   "codemirror_mode": {
    "name": "ipython",
    "version": 3
   },
   "file_extension": ".py",
   "mimetype": "text/x-python",
   "name": "python",
   "nbconvert_exporter": "python",
   "pygments_lexer": "ipython3",
   "version": "3.8.3"
  }
 },
 "nbformat": 4,
 "nbformat_minor": 4
}
